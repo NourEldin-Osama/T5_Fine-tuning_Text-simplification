{
  "cells": [
    {
      "cell_type": "markdown",
      "metadata": {
        "id": "view-in-github",
        "colab_type": "text"
      },
      "source": [
        "<a href=\"https://colab.research.google.com/github/NourEldin-Osama/T5_Fine-tuning_Text-simplification/blob/main/Notebooks/Text_simplification_Client.ipynb\" target=\"_parent\"><img src=\"https://colab.research.google.com/assets/colab-badge.svg\" alt=\"Open In Colab\"/></a>"
      ]
    },
    {
      "cell_type": "code",
      "execution_count": null,
      "metadata": {
        "id": "A9mWsHy31y_D"
      },
      "outputs": [],
      "source": [
        "%%capture\n",
        "!pip install transformers\n",
        "!pip install fastapi pyngrok uvicorn"
      ]
    },
    {
      "cell_type": "code",
      "execution_count": null,
      "metadata": {
        "id": "bOtM9QMNp65I"
      },
      "outputs": [],
      "source": [
        "%%writefile utils.py\n",
        "class TextSimplificationModel:\n",
        "    def __init__(self, tokenizer, model):\n",
        "        self.tokenizer = tokenizer\n",
        "        self.model = model\n",
        "\n",
        "    def simplify(self, text):\n",
        "        text = \"simplify: \" + text\n",
        "        encoded_input = self.tokenizer(text, return_tensors=\"pt\").input_ids\n",
        "        outputs = self.model.generate(encoded_input)\n",
        "        outputs = self.tokenizer.decode(outputs[0], skip_special_tokens=True)\n",
        "        return outputs"
      ]
    },
    {
      "cell_type": "code",
      "execution_count": null,
      "metadata": {
        "id": "t1gb2w0xpz2b"
      },
      "outputs": [],
      "source": [
        "%%writefile main.py\n",
        "from fastapi import FastAPI, Request\n",
        "from fastapi.middleware.cors import CORSMiddleware\n",
        "from typing import Union\n",
        "from pydantic import BaseModel\n",
        "\n",
        "from transformers import AutoTokenizer, AutoModelForSeq2SeqLM\n",
        "from utils import TextSimplificationModel\n",
        "\n",
        "tokenizer = AutoTokenizer.from_pretrained(\"NourEldin-Osama/t5-small-finetuned-text-simplification\")\n",
        "model = AutoModelForSeq2SeqLM.from_pretrained(\"NourEldin-Osama/t5-small-finetuned-text-simplification\")\n",
        "\n",
        "app = FastAPI()\n",
        "Model = TextSimplificationModel(tokenizer, model)\n",
        "\n",
        "app.add_middleware(\n",
        "    CORSMiddleware,\n",
        "    allow_origins=['*'],\n",
        "    allow_credentials=True,\n",
        "    allow_methods=['*'],\n",
        "    allow_headers=['*'],\n",
        ")\n",
        "\n",
        "class UserInput(BaseModel):\n",
        "    text: str\n",
        "\n",
        "@app.get('/')\n",
        "def root():\n",
        "    print(\"root() called\")\n",
        "    return {'message': 'API is Working 🚀'}\n",
        "\n",
        "\n",
        "@app.post(\"/text_simplification/\")\n",
        "def text_simplification(request: UserInput):\n",
        "    text = request.text\n",
        "    output = Model.simplify(text)\n",
        "    return {\"output\": output}"
      ]
    },
    {
      "cell_type": "code",
      "execution_count": null,
      "metadata": {
        "id": "pPEwmJm-12o8"
      },
      "outputs": [],
      "source": [
        "from pyngrok import ngrok\n",
        "ngrok_tunnel = ngrok.connect(8000)\n",
        "url = ngrok_tunnel.public_url\n",
        "print('Public URL:', url)\n",
        "print(f'Server Link: {url}' + r'/text_simplification/')"
      ]
    },
    {
      "cell_type": "code",
      "execution_count": null,
      "metadata": {
        "colab": {
          "background_save": true
        },
        "id": "xOW2RHTH2ApB"
      },
      "outputs": [],
      "source": [
        "!uvicorn main:app --reload --host 127.0.0.1 --port 8000"
      ]
    }
  ],
  "metadata": {
    "colab": {
      "provenance": [],
      "authorship_tag": "ABX9TyMhgEA2tt4JL9RGTIJUDA8P",
      "include_colab_link": true
    },
    "kernelspec": {
      "display_name": "Python 3",
      "name": "python3"
    },
    "language_info": {
      "name": "python"
    }
  },
  "nbformat": 4,
  "nbformat_minor": 0
}